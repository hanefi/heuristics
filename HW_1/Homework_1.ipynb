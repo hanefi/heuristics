{
 "cells": [
  {
   "cell_type": "markdown",
   "metadata": {},
   "source": [
    "# IE517\n",
    "## Homework #1 \n",
    "##### (Due March 22)\n",
    "## Abdullah Hanefi Önaldı\n",
    "## Solving the TSP using Construction Heuristics and 2-Opt Improvement Heuristic\n",
    "\n",
    "### Problem Description\n",
    "\n",
    "In this homework, you are going to solve the TSP for three data sets. They are called eil51.dat, eil76.dat, and eil101.dat, and consist of 51, 76, and 101 customer locations, respectively. Each data set includes the x-coordinates and y-coordinates of customers. The distances between customer locations are measured via Euclidean distance rounded to two digits after the decimal point. You can also compute the optimal tour length by considering the sequence given in the xxxopt.dat files.\n",
    "\n",
    "1. Solve each instance using the one-sided nearest neighbor heuristic starting at cities 10, 20, and 30. This means that you will obtain nine tours. Provide the tour length of each one using the table below.\n",
    "2. Solve each instance using the two-sided nearest neighbor heuristic starting at cities 10, 20, and 30. This means that you will obtain nine tours. Provide the tour length of each one using the table below.\n",
    "3. Solve each instance using the nearest insertion heuristic starting at cities 10, 20, and 30. This means that you will obtain nine tours. Provide the tour length of each one using the table below.\n",
    "4. Solve each instance using the farthest insertion heuristic starting at cities 10, 20, and 30. This means that you will obtain nine tours. Provide the tour length of each one using the table below.\n",
    "5. For each tour obtained so far, apply the 2-opt improvement heuristic, and give the tour length using the table below.\n",
    "\n",
    "I would like to remind you the following points which you should consider when you submit your homework. It will consist of two parts: your code and report. First, your code must be clear and you should define the following using comment lines in the code: variables names and their purpose, function names and their purpose. For example, you should write \"X is the location variable\", \"CompObj calculates the objective value\", etc. Or, you can use a function name that is self explanatory e.g., ApplyMove.\n",
    "\n",
    "In the report part, you have to mention which solution representation and neighborhood structure you used as well as other pertinent and tiny details worth pointing out. You can use the following table for the output of your solutions.\n",
    "\n",
    "<table border=\"1\" class=\"dataframe\">\n",
    "  <thead>\n",
    "    <tr>\n",
    "      <th></th>\n",
    "      <th>method</th>\n",
    "      <th colspan=\"2\" halign=\"left\">1-Sided_NN</th>\n",
    "      <th colspan=\"2\" halign=\"left\">2-Sided_NN</th>\n",
    "      <th colspan=\"2\" halign=\"left\">Nearest_Insert</th>\n",
    "      <th colspan=\"2\" halign=\"left\">Furthest_Insert</th>\n",
    "    </tr>\n",
    "    <tr>\n",
    "      <th></th>\n",
    "      <th>stage</th>\n",
    "      <th>Initial</th>\n",
    "      <th>After_2-opt</th>\n",
    "      <th>Initial</th>\n",
    "      <th>After_2-opt</th>\n",
    "      <th>Initial</th>\n",
    "      <th>After_2-opt</th>\n",
    "      <th>Initial</th>\n",
    "      <th>After_2-opt</th>\n",
    "    </tr>\n",
    "    <tr>\n",
    "      <th>dataset</th>\n",
    "      <th>initial_customer</th>\n",
    "      <th></th>\n",
    "      <th></th>\n",
    "      <th></th>\n",
    "      <th></th>\n",
    "      <th></th>\n",
    "      <th></th>\n",
    "      <th></th>\n",
    "      <th></th>\n",
    "    </tr>\n",
    "  </thead>\n",
    "  <tbody>\n",
    "    <tr>\n",
    "      <th rowspan=\"3\" valign=\"top\">eil76</th>\n",
    "      <th>10</th>\n",
    "      <td></td>\n",
    "      <td></td>\n",
    "      <td></td>\n",
    "      <td></td>\n",
    "      <td></td>\n",
    "      <td></td>\n",
    "      <td></td>\n",
    "      <td></td>\n",
    "    </tr>\n",
    "    <tr>\n",
    "      <th>20</th>\n",
    "      <td></td>\n",
    "      <td></td>\n",
    "      <td></td>\n",
    "      <td></td>\n",
    "      <td></td>\n",
    "      <td></td>\n",
    "      <td></td>\n",
    "      <td></td>\n",
    "    </tr>\n",
    "    <tr>\n",
    "      <th>30</th>\n",
    "      <td></td>\n",
    "      <td></td>\n",
    "      <td></td>\n",
    "      <td></td>\n",
    "      <td></td>\n",
    "      <td></td>\n",
    "      <td></td>\n",
    "      <td></td>\n",
    "    </tr>\n",
    "    <tr>\n",
    "      <th rowspan=\"3\" valign=\"top\">eil101</th>\n",
    "      <th>10</th>\n",
    "      <td></td>\n",
    "      <td></td>\n",
    "      <td></td>\n",
    "      <td></td>\n",
    "      <td></td>\n",
    "      <td></td>\n",
    "      <td></td>\n",
    "      <td></td>\n",
    "    </tr>\n",
    "    <tr>\n",
    "      <th>20</th>\n",
    "      <td></td>\n",
    "      <td></td>\n",
    "      <td></td>\n",
    "      <td></td>\n",
    "      <td></td>\n",
    "      <td></td>\n",
    "      <td></td>\n",
    "      <td></td>\n",
    "    </tr>\n",
    "    <tr>\n",
    "      <th>30</th>\n",
    "      <td></td>\n",
    "      <td></td>\n",
    "      <td></td>\n",
    "      <td></td>\n",
    "      <td></td>\n",
    "      <td></td>\n",
    "      <td></td>\n",
    "      <td></td>\n",
    "    </tr>\n",
    "    <tr>\n",
    "      <th rowspan=\"3\" valign=\"top\">eil51</th>\n",
    "      <th>10</th>\n",
    "      <td></td>\n",
    "      <td></td>\n",
    "      <td></td>\n",
    "      <td></td>\n",
    "      <td></td>\n",
    "      <td></td>\n",
    "      <td></td>\n",
    "      <td></td>\n",
    "    </tr>\n",
    "    <tr>\n",
    "      <th>20</th>\n",
    "      <td></td>\n",
    "      <td></td>\n",
    "      <td></td>\n",
    "      <td></td>\n",
    "      <td></td>\n",
    "      <td></td>\n",
    "      <td></td>\n",
    "      <td></td>\n",
    "    </tr>\n",
    "    <tr>\n",
    "      <th>30</th>\n",
    "      <td></td>\n",
    "      <td></td>\n",
    "      <td></td>\n",
    "      <td></td>\n",
    "      <td></td>\n",
    "      <td></td>\n",
    "      <td></td>\n",
    "      <td></td>\n",
    "    </tr>\n",
    "  </tbody>\n",
    "</table>"
   ]
  },
  {
   "cell_type": "markdown",
   "metadata": {},
   "source": [
    "### Solution\n",
    "#### Solution Representation\n",
    "\n",
    "I used simple lists of customers to represent solutions to the TSP problem. The first customer in the list occurs at the end, and all other customers occur exactly once.\n",
    "\n",
    "These solutions can be viewed in the excel file provided along with this report.\n",
    "\n",
    "#### Data Structures\n",
    "\n",
    "I used :\n",
    "- `paths` : pandas dataframe with MultiIndex'es to store all paths\n",
    "- `df` : pandas dataframe with MultiIndex'es to store the lengths of the paths\n",
    "- `INSTANCES` : dictionary that contains all the following for each problem instance\n",
    "  - contents of input files\n",
    "  - contents of optimal solution files\n",
    "  - `file` : the path of the dataset\n",
    "  - `file_opt` : the path of the file containing optimal solution\n",
    "  - `optimal_path` : the list of nodes visited in the optimal path\n",
    "  - `distances` : pairwise distances of customers in a matrix\n",
    "  - `optimal_length` : the length of the optimal solution"
   ]
  },
  {
   "cell_type": "markdown",
   "metadata": {},
   "source": [
    "### Code\n",
    "\n",
    "Let's start by importing functions/modules and defining several helper functions:\n",
    "\n",
    "- `pandas` : library for managing tabular data\n",
    "- `numpy` : numeric operations, linear algebra modules etc\n",
    "- `squareform` : used for creating square distance matrices\n",
    "- `pdist` : pairwise distance calculations\n",
    "- `partial` : creation of partial functions\n",
    "- `combinations` : given a number of lists, generates all possible combinations of elements by taking one from each list\n",
    "\n",
    "\n",
    "- `calc_total_length` : calculates the total path length, given the pairwise distances of all customers, and the order they are visited\n",
    "- `insertion_cost` : given the pairwise distances between customers, calculates the cost of inserting customer k between i and j\n",
    "- `find_method` : given a method name, construct the partial functions that will solve the problem using the aforementioned method"
   ]
  },
  {
   "cell_type": "code",
   "execution_count": 1,
   "metadata": {
    "ExecuteTime": {
     "end_time": "2018-03-25T21:13:02.636300Z",
     "start_time": "2018-03-25T21:13:01.762193Z"
    }
   },
   "outputs": [],
   "source": [
    "import pandas as pd\n",
    "import numpy as np\n",
    "from scipy.spatial.distance import squareform, pdist\n",
    "from functools import partial\n",
    "from itertools import combinations\n",
    "\n",
    "\n",
    "def calc_total_length(path, distances):\n",
    "    return distances.lookup(path[:-1], path[1:]).sum()\n",
    "\n",
    "\n",
    "def insertion_cost(distances, i, j, k):\n",
    "    return distances.loc[i, k] + distances.loc[k, j] - distances.loc[i, j]\n",
    "\n",
    "\n",
    "def find_method(method_name):\n",
    "    method_dict = {\n",
    "        '1-Sided_NN': partial(nearest_neighbor, num_sides=1),\n",
    "        '2-Sided_NN': partial(nearest_neighbor, num_sides=2),\n",
    "        'Nearest_Insert': partial(insertion, kind='nearest'),\n",
    "        'Furthest_Insert': partial(insertion, kind='farthest'),\n",
    "    }\n",
    "    return method_dict[method_name]"
   ]
  },
  {
   "cell_type": "markdown",
   "metadata": {},
   "source": [
    "The static variables storing problem instances, initial customer indices, methods, and stages as described in the problem description"
   ]
  },
  {
   "cell_type": "code",
   "execution_count": 2,
   "metadata": {
    "ExecuteTime": {
     "end_time": "2018-03-25T21:13:02.647542Z",
     "start_time": "2018-03-25T21:13:02.638870Z"
    }
   },
   "outputs": [],
   "source": [
    "INSTANCES = {\n",
    "    'eil76': {\n",
    "        'file': 'data/eil76.dat',\n",
    "        'file_opt': 'data/eil76opt.dat'\n",
    "    },\n",
    "    'eil101': {\n",
    "        'file': 'data/eil101.dat',\n",
    "        'file_opt': 'data/eil101opt.dat'\n",
    "    },\n",
    "    'eil51': {\n",
    "        'file': 'data/eil51.dat',\n",
    "        'file_opt': 'data/eil51opt.dat'\n",
    "    },\n",
    "}\n",
    "INITIAL_CUSTOMERS = [10, 20, 30]\n",
    "METHODS = ['1-Sided_NN', '2-Sided_NN', 'Nearest_Insert', 'Furthest_Insert']\n",
    "STAGES = ['Initial', 'After_2-opt']"
   ]
  },
  {
   "cell_type": "markdown",
   "metadata": {},
   "source": [
    "Create the Pandas DataFrame that will hold all the solutions"
   ]
  },
  {
   "cell_type": "code",
   "execution_count": 3,
   "metadata": {
    "ExecuteTime": {
     "end_time": "2018-03-25T21:13:02.707739Z",
     "start_time": "2018-03-25T21:13:02.651948Z"
    }
   },
   "outputs": [],
   "source": [
    "def create_df(instances=INSTANCES,\n",
    "              initial_customers=INITIAL_CUSTOMERS,\n",
    "              methods=METHODS,\n",
    "              stages=STAGES):\n",
    "    indexes = [instances.keys(), initial_customers]\n",
    "    row_index = pd.MultiIndex.from_product(\n",
    "        indexes, names=['dataset', 'initial_customer'])\n",
    "\n",
    "    indexes = [methods, stages]\n",
    "    column_index = pd.MultiIndex.from_product(\n",
    "        indexes, names=['method', 'stage'])\n",
    "\n",
    "    df = pd.DataFrame(index=row_index, columns=column_index)\n",
    "\n",
    "    return df\n",
    "\n",
    "\n",
    "df = create_df()\n",
    "paths = create_df()"
   ]
  },
  {
   "cell_type": "markdown",
   "metadata": {},
   "source": [
    "Read the files of the given instances"
   ]
  },
  {
   "cell_type": "code",
   "execution_count": 4,
   "metadata": {
    "ExecuteTime": {
     "end_time": "2018-03-25T21:13:02.751202Z",
     "start_time": "2018-03-25T21:13:02.711857Z"
    },
    "scrolled": true
   },
   "outputs": [],
   "source": [
    "def read_files(instances=INSTANCES):\n",
    "    for instance in instances.values():\n",
    "        coords = pd.read_csv(\n",
    "            instance['file'], header=None, index_col=0, delim_whitespace=True)\n",
    "\n",
    "        instance['optimal_path'] = pd.read_csv(\n",
    "            instance['file_opt'], header=None, squeeze=True)\n",
    "\n",
    "        instance['distances'] = pd.DataFrame(\n",
    "            squareform(pdist(coords)),\n",
    "            columns=coords.index,\n",
    "            index=coords.index)\n",
    "\n",
    "        instance['optimal_length'] = calc_total_length(\n",
    "            path=instance['optimal_path'], distances=instance['distances'])\n",
    "\n",
    "\n",
    "read_files()"
   ]
  },
  {
   "cell_type": "markdown",
   "metadata": {},
   "source": [
    "Create the path using the nearest neighbor heuristic given the number of sides to search, the pairwise distances, and the initial customer to start the search"
   ]
  },
  {
   "cell_type": "code",
   "execution_count": 5,
   "metadata": {
    "ExecuteTime": {
     "end_time": "2018-03-25T21:13:02.828630Z",
     "start_time": "2018-03-25T21:13:02.756526Z"
    },
    "scrolled": true
   },
   "outputs": [],
   "source": [
    "def nearest_neighbor(num_sides, distances, initial_node):\n",
    "    distances = distances.copy()\n",
    "    np.fill_diagonal(distances.values, np.nan)\n",
    "    path = [initial_node]\n",
    "\n",
    "    if num_sides is 1:\n",
    "        current = initial_node\n",
    "        for _ in range(distances.shape[0] - 1):\n",
    "            next_ = distances[current].idxmin()\n",
    "            path.append(next_)\n",
    "            distances.loc[current, :] = np.nan\n",
    "            current = next_\n",
    "\n",
    "    elif num_sides is 2:\n",
    "        head, tail = initial_node, distances[initial_node].idxmin()\n",
    "        path.append(tail)\n",
    "        distances.loc[:, 'head'] = np.nan\n",
    "        distances.loc[:, 'tail'] = np.nan\n",
    "\n",
    "        for _ in range(distances.shape[0] - 2):\n",
    "            next_head, next_tail = distances[[head, tail]].idxmin()\n",
    "            if distances.loc[head, next_head] > distances.loc[next_tail, tail]:\n",
    "                path.insert(0, next_tail)\n",
    "                distances.loc[tail, :] = np.inf\n",
    "                tail = next_tail\n",
    "            else:\n",
    "                path.append(next_head)\n",
    "                distances.loc[head, :] = np.inf\n",
    "                head = next_head\n",
    "    else:\n",
    "        raise ValueError('nearest_neighbor is either one or two sided')\n",
    "\n",
    "    path.append(path[0])\n",
    "    return path"
   ]
  },
  {
   "cell_type": "markdown",
   "metadata": {},
   "source": [
    "Create the path using the insertion heuristic given the kind (farthest or nearest), the pairwise distances, and the initial customer to start the search"
   ]
  },
  {
   "cell_type": "code",
   "execution_count": 6,
   "metadata": {
    "ExecuteTime": {
     "end_time": "2018-03-25T21:13:02.916184Z",
     "start_time": "2018-03-25T21:13:02.830954Z"
    }
   },
   "outputs": [],
   "source": [
    "def insertion(kind, distances, initial_node):\n",
    "    distances = distances.copy()\n",
    "    np.fill_diagonal(distances.values, np.nan)\n",
    "\n",
    "    if kind is 'nearest':\n",
    "        closest = distances[initial_node].idxmin()\n",
    "        path = [initial_node, closest, initial_node]\n",
    "\n",
    "        distances['subtour'] = distances[[closest, initial_node]].min(axis=1)\n",
    "        for _ in range(distances.shape[0] - 2):\n",
    "            distances['subtour'].loc[path] = np.nan\n",
    "            closest = distances['subtour'].idxmin()\n",
    "            costs = [\n",
    "                insertion_cost(distances, i, j, closest)\n",
    "                for i, j in zip(path, path[1:])\n",
    "            ]\n",
    "            min_cost = np.argmin(costs) + 1\n",
    "            path.insert(min_cost, closest)\n",
    "            distances['subtour'] = distances[[closest, 'subtour']].min(axis=1)\n",
    "\n",
    "    elif kind is 'farthest':\n",
    "        fartest = distances[initial_node].idxmax()\n",
    "        path = [initial_node, fartest, initial_node]\n",
    "\n",
    "        distances['subtour'] = distances[[fartest, initial_node]].min(axis=1)\n",
    "        for _ in range(distances.shape[0] - 2):\n",
    "            distances['subtour'].loc[path] = np.nan\n",
    "            fartest = distances['subtour'].idxmax()\n",
    "            costs = [\n",
    "                insertion_cost(distances, i, j, fartest)\n",
    "                for i, j in zip(path, path[1:])\n",
    "            ]\n",
    "            min_cost = np.argmin(costs) + 1\n",
    "            path.insert(min_cost, fartest)\n",
    "            distances['subtour'] = distances[[fartest, 'subtour']].min(axis=1)\n",
    "    else:\n",
    "        ValueError('insertion is either nearest or farthest')\n",
    "\n",
    "    return path"
   ]
  },
  {
   "cell_type": "markdown",
   "metadata": {},
   "source": [
    "Improve a solution using two opt given pairwise distances and the path found in the solution"
   ]
  },
  {
   "cell_type": "code",
   "execution_count": null,
   "metadata": {
    "ExecuteTime": {
     "start_time": "2018-03-25T21:13:01.789Z"
    }
   },
   "outputs": [],
   "source": [
    "def two_opt(distances, path):\n",
    "    path = path.copy()\n",
    "    while True:\n",
    "        no_gain = True\n",
    "        for start, end in combinations(range(1, len(path) - 2), r=2):\n",
    "            if end - start is 1:\n",
    "                continue\n",
    "            c1 = path[start - 1]\n",
    "            c2 = path[start]\n",
    "            c3 = path[end]\n",
    "            c4 = path[end + 1]\n",
    "\n",
    "            gain = + distances[c1][c2] + distances[c3][c4] \\\n",
    "                   - distances[c1][c3] - distances[c2][c4]\n",
    "\n",
    "            if gain > 1e-10:\n",
    "                no_gain = False\n",
    "                path[start:end + 1] = path[end:start - 1:-1]\n",
    "\n",
    "        if no_gain:\n",
    "            return path"
   ]
  },
  {
   "cell_type": "markdown",
   "metadata": {},
   "source": [
    "Iterate over all the datasets, initial customers, and methods. Construct solutions and then improve them using two opt heuristic"
   ]
  },
  {
   "cell_type": "code",
   "execution_count": null,
   "metadata": {
    "ExecuteTime": {
     "start_time": "2018-03-25T21:13:01.801Z"
    }
   },
   "outputs": [],
   "source": [
    "for instance in INSTANCES:\n",
    "    df.loc[instance, 'optimal'] = INSTANCES[instance]['optimal_length']\n",
    "    distances = INSTANCES[instance]['distances']\n",
    "    for initial in INITIAL_CUSTOMERS:\n",
    "        for method_name in METHODS:\n",
    "            method = find_method(method_name)\n",
    "\n",
    "            path = method(distances=distances, initial_node=initial)\n",
    "            length = calc_total_length(path, distances)\n",
    "\n",
    "            paths.loc[(instance, initial), (method_name, 'Initial')] = path\n",
    "            df.loc[(instance, initial), (method_name, 'Initial')] = length\n",
    "\n",
    "            better_path = two_opt(distances, path)\n",
    "            length = calc_total_length(better_path, distances)\n",
    "\n",
    "            df.loc[(instance, initial), (method_name, 'After_2-opt')] = length\n",
    "            paths.loc[(instance, initial), (method_name,\n",
    "                                            'After_2-opt')] = better_path\n",
    "            \n",
    "df"
   ]
  },
  {
   "cell_type": "markdown",
   "metadata": {},
   "source": [
    "Divide the path lengths by the optimal length to better see the performance"
   ]
  },
  {
   "cell_type": "code",
   "execution_count": null,
   "metadata": {
    "ExecuteTime": {
     "start_time": "2018-03-25T21:13:01.813Z"
    },
    "scrolled": false
   },
   "outputs": [],
   "source": [
    "df = df.div(df['optimal'], axis='rows')\n",
    "df.drop(columns=['optimal'], inplace=True)\n",
    "df"
   ]
  },
  {
   "cell_type": "markdown",
   "metadata": {},
   "source": [
    "Write the paths and performances to an excel file"
   ]
  },
  {
   "cell_type": "code",
   "execution_count": null,
   "metadata": {
    "ExecuteTime": {
     "start_time": "2018-03-25T21:13:01.822Z"
    }
   },
   "outputs": [],
   "source": [
    "writer = pd.ExcelWriter('results.xlsx')\n",
    "df.to_excel(writer, sheet_name='performance')\n",
    "paths.to_excel(writer, sheet_name='paths')\n",
    "writer.save()"
   ]
  }
 ],
 "metadata": {
  "hide_input": false,
  "kernelspec": {
   "display_name": "Python 3",
   "language": "python",
   "name": "python3"
  },
  "language_info": {
   "codemirror_mode": {
    "name": "ipython",
    "version": 3
   },
   "file_extension": ".py",
   "mimetype": "text/x-python",
   "name": "python",
   "nbconvert_exporter": "python",
   "pygments_lexer": "ipython3",
   "version": "3.6.4"
  },
  "notify_time": "5",
  "varInspector": {
   "cols": {
    "lenName": 16,
    "lenType": 16,
    "lenVar": 40
   },
   "kernels_config": {
    "python": {
     "delete_cmd_postfix": "",
     "delete_cmd_prefix": "del ",
     "library": "var_list.py",
     "varRefreshCmd": "print(var_dic_list())"
    },
    "r": {
     "delete_cmd_postfix": ") ",
     "delete_cmd_prefix": "rm(",
     "library": "var_list.r",
     "varRefreshCmd": "cat(var_dic_list()) "
    }
   },
   "oldHeight": 384,
   "position": {
    "height": "337px",
    "left": "1505px",
    "right": "20px",
    "top": "120px",
    "width": "423px"
   },
   "types_to_exclude": [
    "module",
    "function",
    "builtin_function_or_method",
    "instance",
    "_Feature"
   ],
   "varInspector_section_display": "block",
   "window_display": true
  },
  "widgets": {
   "application/vnd.jupyter.widget-state+json": {
    "state": {},
    "version_major": 2,
    "version_minor": 0
   }
  }
 },
 "nbformat": 4,
 "nbformat_minor": 2
}
