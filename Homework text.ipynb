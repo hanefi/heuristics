{
 "cells": [
  {
   "cell_type": "markdown",
   "metadata": {},
   "source": [
    "# Homework problem"
   ]
  },
  {
   "cell_type": "markdown",
   "metadata": {},
   "source": [
    "In an office building there are 11 floors on which 30 tenants are to be located. Each tenant has given space requirements that may vary with the floor to which he is assigned. If tenant j is assigned to floor i, he needs $a_{ij}$ $m^2$ of floor space Floor i is assumed to have an area of $b_i$ $m^2$. Suppose that each m^2 of space on floor i that is rented yields $c_i$ $/month for the company. To maximize the revenue which tenant should be assigned to which floor?"
   ]
  },
  {
   "cell_type": "markdown",
   "metadata": {},
   "source": [
    "### Discrete Value Representation\n",
    "\n",
    "You may use discrete value representation like the following:\n",
    "\n",
    "| 1 | 2 | 3 | ... | 30 |\n",
    "|---|---|---|-----|----|\n",
    "| 4 | 5 | 1 | ... | 5  |\n",
    "\n"
   ]
  }
 ],
 "metadata": {
  "hide_input": false,
  "kernelspec": {
   "display_name": "Python 3",
   "language": "python",
   "name": "python3"
  },
  "language_info": {
   "codemirror_mode": {
    "name": "ipython",
    "version": 3
   },
   "file_extension": ".py",
   "mimetype": "text/x-python",
   "name": "python",
   "nbconvert_exporter": "python",
   "pygments_lexer": "ipython3",
   "version": "3.6.4"
  }
 },
 "nbformat": 4,
 "nbformat_minor": 2
}
