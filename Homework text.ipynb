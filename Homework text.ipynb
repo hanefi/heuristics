{
 "cells": [
  {
   "cell_type": "markdown",
   "metadata": {},
   "source": [
    "# Homework problem"
   ]
  },
  {
   "cell_type": "markdown",
   "metadata": {},
   "source": [
    "In an office building there are 11 floors on which 30 tenants are to be located. Each tenant has given space requirements that may vary with the floor to which he is assigned. If tenant j is assigned to floor i, he needs $a_{ij}$ $m^2$ of floor space Floor i is assumed to have an area of $b_i$ $m^2$. Suppose that each $m^2$ of space on floor i that is rented yields $c_i$ $/month for the company. To maximize the revenue which tenant should be assigned to which floor?"
   ]
  },
  {
   "cell_type": "markdown",
   "metadata": {},
   "source": [
    "### Discrete Value Representation\n",
    "\n",
    "You may use discrete value representation like the following:\n",
    "\n",
    "| 1 | 2 | 3 | ... | 30 |\n",
    "|---|---|---|-----|----|\n",
    "| 4 | 5 | 1 | ... | 5  |\n",
    "\n"
   ]
  },
  {
   "cell_type": "code",
   "execution_count": 1,
   "metadata": {
    "ExecuteTime": {
     "end_time": "2018-03-01T20:25:50.168180Z",
     "start_time": "2018-03-01T20:25:50.031676Z"
    }
   },
   "outputs": [],
   "source": [
    "import numpy as np\n",
    "from itertools import product"
   ]
  },
  {
   "cell_type": "code",
   "execution_count": 2,
   "metadata": {
    "ExecuteTime": {
     "end_time": "2018-03-01T20:25:50.194586Z",
     "start_time": "2018-03-01T20:25:50.171323Z"
    }
   },
   "outputs": [],
   "source": [
    "def generate_testcase(num_floors, num_tenants, verbose=True):\n",
    "    needs = np.random.randint(10, size=(num_floors, num_tenants))\n",
    "    capacities = np.random.randint(30, size=(num_floors))\n",
    "    unit_rents = np.random.randint(10, size=(num_floors))\n",
    "\n",
    "    if verbose:\n",
    "        print('needs:', needs)\n",
    "        print('capacities:', capacities)\n",
    "        print('unit_rents:', unit_rents)\n",
    "    return needs, capacities, unit_rents"
   ]
  },
  {
   "cell_type": "code",
   "execution_count": 3,
   "metadata": {
    "ExecuteTime": {
     "end_time": "2018-03-01T20:25:50.202578Z",
     "start_time": "2018-03-01T20:25:50.197153Z"
    }
   },
   "outputs": [],
   "source": [
    "def generate_all_placements(num_floors, num_tenants):\n",
    "    return product(*[range(num_floors) for x in range(num_tenants)])"
   ]
  },
  {
   "cell_type": "code",
   "execution_count": 4,
   "metadata": {
    "ExecuteTime": {
     "end_time": "2018-03-01T20:25:50.225972Z",
     "start_time": "2018-03-01T20:25:50.205581Z"
    }
   },
   "outputs": [],
   "source": [
    "def get_score(placement, needs, unit_rents, capacities):\n",
    "    num_floors = unit_rents.shape[0]\n",
    "    used_space = np.zeros(num_floors)\n",
    "\n",
    "    for tenant, floor in enumerate(placement):\n",
    "        used_space[floor] += needs[floor, tenant]\n",
    "\n",
    "    if np.any(used_space > capacities):\n",
    "        return -1\n",
    "    return unit_rents.dot(used_space)"
   ]
  },
  {
   "cell_type": "code",
   "execution_count": 41,
   "metadata": {
    "ExecuteTime": {
     "end_time": "2018-03-01T20:35:39.763169Z",
     "start_time": "2018-03-01T20:35:39.735682Z"
    }
   },
   "outputs": [],
   "source": [
    "def greedy(needs, capacities, unit_rents, verbose=True):\n",
    "    def _get_score(placement):\n",
    "        return get_score(\n",
    "            placement=placement,\n",
    "            needs=needs,\n",
    "            unit_rents=unit_rents,\n",
    "            capacities=capacities)\n",
    "\n",
    "    (num_floors, num_tenants) = needs.shape\n",
    "    permutations = list(generate_all_placements(num_floors, num_tenants))\n",
    "\n",
    "    if verbose:\n",
    "        print(f'there are a total of {len(permutations)} permutations')\n",
    "\n",
    "    solutions = list(zip(permutations, map(_get_score, permutations)))\n",
    "    solutions = sorted(solutions, key=lambda x: -x[1])\n",
    "    if verbose:\n",
    "        print(f'best 5 solutions: {solutions[:5]}')\n",
    "        print(f'finished greedy algorithm at {solutions[0]}')\n",
    "\n",
    "    return solutions[0]"
   ]
  },
  {
   "cell_type": "code",
   "execution_count": 37,
   "metadata": {
    "ExecuteTime": {
     "end_time": "2018-03-01T20:35:05.569053Z",
     "start_time": "2018-03-01T20:35:05.556459Z"
    }
   },
   "outputs": [],
   "source": [
    "def change_one(max_value):\n",
    "    def operator(current):\n",
    "        neighbors = []\n",
    "        for i in range(len(current)):\n",
    "            for v in range(max_value):\n",
    "                if current[i] is v:\n",
    "                    next\n",
    "                new = list(current)\n",
    "                new[i] = v\n",
    "                neighbors.append(new)\n",
    "\n",
    "        return neighbors\n",
    "\n",
    "    return operator"
   ]
  },
  {
   "cell_type": "code",
   "execution_count": 38,
   "metadata": {
    "ExecuteTime": {
     "end_time": "2018-03-01T20:35:05.930613Z",
     "start_time": "2018-03-01T20:35:05.879301Z"
    }
   },
   "outputs": [],
   "source": [
    "def local_search(needs,\n",
    "                 capacities,\n",
    "                 unit_rents,\n",
    "                 operator,\n",
    "                 search_size=10,\n",
    "                 verbose=True):\n",
    "    def _get_score(placement):\n",
    "        return get_score(\n",
    "            placement=placement,\n",
    "            needs=needs,\n",
    "            unit_rents=unit_rents,\n",
    "            capacities=capacities)\n",
    "\n",
    "    def select_best(neighbors):\n",
    "        scores = list(zip(neighbors, map(_get_score, neighbors)))\n",
    "        scores = sorted(scores, key=lambda x: -x[1])\n",
    "        return scores[0]\n",
    "\n",
    "    (num_floors, num_tenants) = needs.shape\n",
    "\n",
    "    solutions = np.random.choice(\n",
    "        range(num_floors), size=(search_size, num_tenants))\n",
    "    solution, score = select_best(solutions)\n",
    "    if verbose:\n",
    "        print(f'started local search from {solution} with score:{score}')\n",
    "\n",
    "    while True:\n",
    "        neighbors = operator(solution)\n",
    "        cand, cand_score = select_best(neighbors)\n",
    "        if cand_score <= score:\n",
    "            break\n",
    "\n",
    "        print(f'{cand} has better score: {cand_score}')\n",
    "        solution, score = cand, cand_score\n",
    "    print(f'local optimum at {solution} => {score}')\n",
    "    return solution, score"
   ]
  },
  {
   "cell_type": "code",
   "execution_count": 56,
   "metadata": {
    "ExecuteTime": {
     "end_time": "2018-03-01T20:37:58.074914Z",
     "start_time": "2018-03-01T20:37:58.067760Z"
    }
   },
   "outputs": [
    {
     "name": "stdout",
     "output_type": "stream",
     "text": [
      "needs: [[7 9 4 1 8]\n",
      " [6 2 9 4 3]\n",
      " [9 9 8 6 0]\n",
      " [5 8 4 0 8]\n",
      " [1 9 2 8 5]\n",
      " [9 9 9 0 4]\n",
      " [5 1 5 0 7]\n",
      " [1 1 4 6 3]\n",
      " [7 2 2 9 5]\n",
      " [5 1 1 3 3]]\n",
      "capacities: [13 21 25  3 20 25  5 15  6 13]\n",
      "unit_rents: [8 5 0 6 5 3 8 9 2 0]\n"
     ]
    }
   ],
   "source": [
    "NUM_FLOORS = 10\n",
    "NUM_TENANTS = 5\n",
    "needs, capacities, unit_rents = generate_testcase(\n",
    "    num_floors=NUM_FLOORS, num_tenants=NUM_TENANTS, verbose=True)"
   ]
  },
  {
   "cell_type": "code",
   "execution_count": 53,
   "metadata": {
    "ExecuteTime": {
     "end_time": "2018-03-01T20:37:48.165604Z",
     "start_time": "2018-03-01T20:37:46.547410Z"
    }
   },
   "outputs": [
    {
     "name": "stdout",
     "output_type": "stream",
     "text": [
      "there are a total of 100000 permutations\n",
      "best 5 solutions: [((3, 9, 2, 1, 9), 209.0), ((3, 9, 1, 3, 9), 206.0), ((3, 9, 2, 3, 9), 206.0), ((3, 9, 3, 1, 9), 206.0), ((3, 9, 3, 3, 9), 203.0)]\n",
      "finished greedy algorithm at ((3, 9, 2, 1, 9), 209.0)\n"
     ]
    }
   ],
   "source": [
    "greedy_solution, greedy_score = greedy(\n",
    "    needs=needs, capacities=capacities, unit_rents=unit_rents, verbose=True)"
   ]
  },
  {
   "cell_type": "code",
   "execution_count": 54,
   "metadata": {
    "ExecuteTime": {
     "end_time": "2018-03-01T20:37:48.182989Z",
     "start_time": "2018-03-01T20:37:48.168148Z"
    }
   },
   "outputs": [
    {
     "name": "stdout",
     "output_type": "stream",
     "text": [
      "started local search from [4 9 2 4 7] with score:96.0\n",
      "[3, 9, 2, 4, 7] has better score: 148.0\n",
      "[3, 9, 2, 4, 9] has better score: 190.0\n",
      "[3, 9, 2, 1, 9] has better score: 209.0\n",
      "local optimum at [3, 9, 2, 1, 9] => 209.0\n"
     ]
    }
   ],
   "source": [
    "operator = change_one(max_value=NUM_FLOORS)\n",
    "local_solution, local_score = local_search(\n",
    "    needs=needs,\n",
    "    capacities=capacities,\n",
    "    unit_rents=unit_rents,\n",
    "    operator=operator)"
   ]
  },
  {
   "cell_type": "code",
   "execution_count": 55,
   "metadata": {
    "ExecuteTime": {
     "end_time": "2018-03-01T20:37:49.977737Z",
     "start_time": "2018-03-01T20:37:49.971168Z"
    }
   },
   "outputs": [
    {
     "name": "stdout",
     "output_type": "stream",
     "text": [
      "local search rocks\n"
     ]
    }
   ],
   "source": [
    "if (local_score < greedy_score):\n",
    "    print(\n",
    "        f'local optima performed worse: performance {local_score*100/greedy_score:0.0f}%'\n",
    "    )\n",
    "else:\n",
    "    print('local search rocks')"
   ]
  },
  {
   "cell_type": "code",
   "execution_count": 46,
   "metadata": {
    "ExecuteTime": {
     "end_time": "2018-03-01T20:36:09.318261Z",
     "start_time": "2018-03-01T20:36:08.787722Z"
    }
   },
   "outputs": [
    {
     "name": "stdout",
     "output_type": "stream",
     "text": [
      "needs: [[8 2 8 8 8 0 4 1 5 0 7 7 9 5 0 4 1 4 3 2]\n",
      " [3 0 0 0 5 3 0 5 6 7 5 9 6 3 6 8 4 1 7 4]\n",
      " [5 9 2 7 7 1 4 2 1 8 7 9 4 7 2 6 1 6 8 6]\n",
      " [3 0 7 5 5 2 1 8 5 6 4 4 2 8 3 6 9 0 6 9]\n",
      " [7 1 1 9 2 6 0 1 8 7 2 6 1 0 3 7 3 3 2 0]\n",
      " [7 2 4 0 2 8 8 1 5 5 9 6 9 1 3 6 8 8 6 7]\n",
      " [8 8 2 4 6 8 9 5 2 6 0 2 3 7 0 4 9 7 1 1]\n",
      " [2 2 3 2 1 7 6 7 2 5 3 7 6 2 0 0 2 8 1 1]\n",
      " [9 0 9 7 2 8 3 0 0 6 0 0 6 4 6 2 4 3 5 6]\n",
      " [2 3 8 7 0 2 6 5 2 3 9 4 1 1 2 5 3 2 7 3]\n",
      " [7 2 0 3 5 0 9 2 6 8 3 0 8 6 0 5 2 2 1 8]\n",
      " [9 1 8 4 2 9 1 6 8 6 5 8 6 3 8 2 0 5 0 6]\n",
      " [6 2 0 4 2 0 7 9 1 3 5 4 6 2 0 9 2 4 6 7]\n",
      " [7 1 5 9 7 6 9 2 4 4 4 6 1 5 0 3 5 5 2 8]\n",
      " [5 3 0 6 3 3 1 1 9 7 2 5 3 5 7 8 9 2 4 9]\n",
      " [9 0 0 1 6 5 6 8 8 5 8 6 6 6 8 8 5 1 5 6]\n",
      " [8 2 3 1 5 6 1 8 8 2 8 0 8 1 2 8 9 4 2 9]\n",
      " [6 5 0 6 9 3 9 7 4 3 3 4 4 1 5 7 1 7 3 8]\n",
      " [7 7 2 5 8 6 3 9 1 0 9 5 5 3 0 6 0 9 1 8]\n",
      " [5 8 3 4 3 1 1 1 6 0 6 6 0 5 3 0 4 8 8 0]\n",
      " [5 8 2 0 9 2 6 9 3 0 8 7 0 4 3 7 4 4 7 9]\n",
      " [5 9 8 3 4 4 9 0 9 3 9 2 9 5 6 8 5 3 0 4]\n",
      " [4 6 2 5 1 0 6 5 9 1 2 5 1 7 5 2 1 6 0 6]\n",
      " [9 6 4 8 7 5 6 2 5 8 8 3 4 5 9 9 1 6 2 1]\n",
      " [0 7 2 9 3 1 2 2 2 4 0 1 2 3 2 5 2 2 4 5]\n",
      " [3 4 5 4 9 6 9 8 6 9 8 5 3 5 5 9 6 1 1 7]\n",
      " [8 0 0 1 5 9 7 8 6 7 0 4 6 7 0 5 0 5 7 2]\n",
      " [6 7 1 9 3 3 5 9 6 1 1 2 4 6 1 2 0 2 0 8]\n",
      " [6 5 7 0 0 6 6 0 5 9 3 1 1 2 2 3 9 8 8 0]\n",
      " [2 1 2 8 2 4 3 9 5 0 6 7 7 5 0 5 7 4 2 1]]\n",
      "capacities: [ 4  9  6  7 24  5  0 11 27 16 21 13 27  9 17  9 26 12 12 26  0 19  0 29 17\n",
      " 10 13  5 15 27]\n",
      "unit_rents: [9 7 5 9 4 1 8 6 8 6 6 5 2 2 9 0 9 6 2 2 3 3 1 1 7 8 5 7 7 6]\n",
      "started local search from [15 13 16 21  7 24 18 10 10 20 13 19  3 28 24 21 19 14 16 29] with score:245.0\n",
      "[15, 13, 16, 21, 7, 24, 18, 10, 10, 20, 13, 19, 3, 28, 24, 21, 19, 14, 16, 14] has better score: 320.0\n",
      "[15, 13, 16, 21, 7, 24, 18, 10, 10, 20, 13, 19, 3, 28, 24, 21, 16, 14, 16, 14] has better score: 393.0\n",
      "[8, 13, 16, 21, 7, 24, 18, 10, 10, 20, 13, 19, 3, 28, 24, 21, 16, 14, 16, 14] has better score: 465.0\n",
      "[8, 13, 16, 21, 7, 24, 18, 10, 10, 25, 13, 19, 3, 28, 24, 21, 16, 14, 16, 14] has better score: 537.0\n",
      "[8, 13, 16, 21, 7, 24, 18, 10, 10, 25, 16, 19, 3, 28, 24, 21, 16, 14, 16, 14] has better score: 601.0\n",
      "[8, 13, 16, 21, 7, 8, 18, 10, 10, 25, 16, 19, 3, 28, 24, 21, 16, 14, 16, 14] has better score: 658.0\n",
      "[8, 13, 16, 24, 7, 8, 18, 10, 10, 25, 16, 19, 3, 28, 24, 21, 16, 14, 16, 14] has better score: 712.0\n",
      "[8, 13, 16, 24, 7, 8, 18, 10, 10, 25, 16, 1, 3, 28, 24, 21, 16, 14, 16, 14] has better score: 763.0\n",
      "[8, 13, 16, 24, 17, 8, 18, 10, 10, 25, 16, 1, 3, 28, 24, 21, 16, 14, 16, 14] has better score: 811.0\n",
      "[8, 13, 16, 24, 17, 8, 10, 10, 10, 25, 16, 1, 3, 28, 24, 21, 16, 14, 16, 14] has better score: 859.0\n",
      "[8, 13, 8, 24, 17, 8, 10, 10, 10, 25, 16, 1, 3, 28, 24, 21, 16, 14, 16, 14] has better score: 904.0\n",
      "[8, 13, 8, 24, 17, 8, 10, 29, 10, 25, 16, 1, 3, 28, 24, 21, 16, 14, 16, 14] has better score: 946.0\n",
      "[8, 13, 8, 24, 17, 8, 10, 29, 10, 25, 16, 1, 3, 28, 24, 21, 16, 28, 16, 14] has better score: 984.0\n",
      "[8, 13, 8, 24, 17, 8, 10, 29, 10, 25, 16, 1, 3, 28, 14, 21, 16, 28, 16, 14] has better score: 1033.0\n",
      "[8, 24, 8, 24, 17, 8, 10, 29, 10, 25, 16, 1, 3, 28, 14, 21, 16, 28, 16, 14] has better score: 1080.0\n",
      "[8, 24, 8, 24, 17, 8, 10, 29, 10, 25, 16, 1, 29, 28, 14, 21, 16, 28, 16, 14] has better score: 1104.0\n",
      "[8, 24, 8, 24, 17, 8, 10, 29, 10, 25, 16, 1, 29, 28, 14, 21, 16, 28, 3, 14] has better score: 1140.0\n",
      "[8, 24, 8, 24, 17, 8, 10, 29, 10, 25, 16, 1, 29, 28, 14, 16, 16, 28, 3, 14] has better score: 1188.0\n",
      "[8, 24, 8, 24, 17, 8, 10, 29, 10, 25, 16, 1, 29, 10, 14, 16, 16, 28, 3, 14] has better score: 1210.0\n",
      "[8, 24, 8, 24, 17, 8, 10, 29, 11, 25, 16, 1, 29, 10, 14, 16, 16, 28, 3, 14] has better score: 1214.0\n",
      "local optimum at [8, 24, 8, 24, 17, 8, 10, 29, 11, 25, 16, 1, 29, 10, 14, 16, 16, 28, 3, 14] => 1214.0\n"
     ]
    }
   ],
   "source": [
    "def hard_task():\n",
    "    NUM_FLOORS = 30\n",
    "    NUM_TENANTS = 20\n",
    "    needs, capacities, unit_rents = generate_testcase(\n",
    "        num_floors=NUM_FLOORS, num_tenants=NUM_TENANTS, verbose=True)\n",
    "\n",
    "    operator = change_one(max_value=NUM_FLOORS)\n",
    "\n",
    "    local_solution, local_score = local_search(\n",
    "        needs=needs,\n",
    "        capacities=capacities,\n",
    "        unit_rents=unit_rents,\n",
    "        operator=operator,\n",
    "        search_size=100)\n",
    "\n",
    "\n",
    "hard_task()"
   ]
  },
  {
   "cell_type": "code",
   "execution_count": null,
   "metadata": {},
   "outputs": [],
   "source": []
  }
 ],
 "metadata": {
  "hide_input": false,
  "kernelspec": {
   "display_name": "Python 3",
   "language": "python",
   "name": "python3"
  },
  "language_info": {
   "codemirror_mode": {
    "name": "ipython",
    "version": 3
   },
   "file_extension": ".py",
   "mimetype": "text/x-python",
   "name": "python",
   "nbconvert_exporter": "python",
   "pygments_lexer": "ipython3",
   "version": "3.6.4"
  },
  "notify_time": "5"
 },
 "nbformat": 4,
 "nbformat_minor": 2
}
