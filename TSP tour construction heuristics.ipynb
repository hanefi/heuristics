{
 "cells": [
  {
   "cell_type": "markdown",
   "metadata": {},
   "source": [
    "# Eil51 dataset\n",
    "\n",
    "This is a famous TSP instance. It contains 51 nodes and we know the optimal solution to this problem already.\n",
    "\n",
    "The problem instance(eil51.tsp.txt) and the optimal solution(eil51.opt.tour.txt) can be found [here](http://elib.zib.de/pub/mp-testdata/tsp/tsplib/tsp/)"
   ]
  },
  {
   "cell_type": "code",
   "execution_count": 2,
   "metadata": {
    "ExecuteTime": {
     "end_time": "2018-03-01T08:22:44.674609Z",
     "start_time": "2018-03-01T08:22:44.545400Z"
    }
   },
   "outputs": [
    {
     "name": "stdout",
     "output_type": "stream",
     "text": [
      "eil51.opt.tour.txt\r\n",
      "eil51.tsp.txt\r\n"
     ]
    }
   ],
   "source": [
    "!ls | grep eil"
   ]
  },
  {
   "cell_type": "code",
   "execution_count": 63,
   "metadata": {
    "ExecuteTime": {
     "end_time": "2018-03-01T09:17:38.039870Z",
     "start_time": "2018-03-01T09:17:38.029288Z"
    }
   },
   "outputs": [],
   "source": [
    "def read_graph(f):\n",
    "    with open('eil51.tsp.txt', 'r') as file:\n",
    "        lines = file.readlines()\n",
    "\n",
    "    #  remove the first five rows and the last one\n",
    "    lines = lines[6:-2]\n",
    "    \n",
    "    for line in lines:\n",
    "        (node_id, x,y) = line.split()\n",
    "        f.node(node_id, pos=f\"{x},{y}!\")"
   ]
  },
  {
   "cell_type": "code",
   "execution_count": 64,
   "metadata": {
    "ExecuteTime": {
     "end_time": "2018-03-01T09:17:38.246909Z",
     "start_time": "2018-03-01T09:17:38.229145Z"
    }
   },
   "outputs": [],
   "source": [
    "def read_optimal_solution(f):\n",
    "    with open('eil51.opt.tour.txt', 'r') as file:\n",
    "        lines = file.readlines()\n",
    "    #  remove the first five rows and the last one\n",
    "    lines = lines[5:-2]\n",
    "    lines = [_ for _ in map(lambda x: x.strip(), lines)]\n",
    "    lines.append(lines[0])\n",
    "\n",
    "    for ind, node in enumerate(lines[:-1]):\n",
    "        next_node = lines[ind+1]\n",
    "\n",
    "        f.edge(node, next_node)"
   ]
  },
  {
   "cell_type": "code",
   "execution_count": 69,
   "metadata": {
    "ExecuteTime": {
     "end_time": "2018-03-01T09:23:30.609789Z",
     "start_time": "2018-03-01T09:23:30.603408Z"
    }
   },
   "outputs": [],
   "source": [
    "def create_optimal_graph():\n",
    "    f = Graph('tsp', filename='tsp.gv', format='pdf', engine='neato')\n",
    "    read_graph(f)\n",
    "    read_optimal_solution(f)\n",
    "    f.view()"
   ]
  },
  {
   "cell_type": "code",
   "execution_count": 70,
   "metadata": {
    "ExecuteTime": {
     "end_time": "2018-03-01T09:23:32.495315Z",
     "start_time": "2018-03-01T09:23:32.425835Z"
    },
    "scrolled": false
   },
   "outputs": [],
   "source": [
    "from graphviz import Graph\n",
    "\n",
    "create_optimal_graph()"
   ]
  },
  {
   "cell_type": "code",
   "execution_count": null,
   "metadata": {},
   "outputs": [],
   "source": []
  }
 ],
 "metadata": {
  "hide_input": false,
  "kernelspec": {
   "display_name": "Python 3",
   "language": "python",
   "name": "python3"
  },
  "language_info": {
   "codemirror_mode": {
    "name": "ipython",
    "version": 3
   },
   "file_extension": ".py",
   "mimetype": "text/x-python",
   "name": "python",
   "nbconvert_exporter": "python",
   "pygments_lexer": "ipython3",
   "version": "3.6.4"
  }
 },
 "nbformat": 4,
 "nbformat_minor": 2
}
