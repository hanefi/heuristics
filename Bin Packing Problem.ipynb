{
 "cells": [
  {
   "cell_type": "markdown",
   "metadata": {},
   "source": [
    "# Bin packing problem\n",
    "\n",
    "There are groups of people of size 3,1,6,4,2,5\n",
    "\n",
    "Transport these groups with minibuses of capacity 7\n",
    "\n",
    "Determine the minimum number of minibuses required"
   ]
  },
  {
   "cell_type": "markdown",
   "metadata": {},
   "source": [
    "## Exercise : First Fit Heuristic and First-Fit Decreasing algorithms"
   ]
  },
  {
   "cell_type": "code",
   "execution_count": 1,
   "metadata": {
    "ExecuteTime": {
     "end_time": "2018-02-15T09:34:18.407701Z",
     "start_time": "2018-02-15T09:34:18.368266Z"
    }
   },
   "outputs": [],
   "source": [
    "def first_fit(groups, capacity, decreasing=False, verbose=True):\n",
    "    indices = range(len(groups))\n",
    "    bins = [[] for _ in indices]\n",
    "    residuals = [capacity for _ in indices]\n",
    "    usage = [False for _ in indices]\n",
    "\n",
    "    if decreasing:\n",
    "        groups.sort(reverse=True)\n",
    "        \n",
    "    for j in indices:\n",
    "        g = groups[j]\n",
    "        for i in indices:\n",
    "            if residuals[i]>=g:\n",
    "                residuals[i]-=g\n",
    "                bins[i].append([j+1]*g)\n",
    "                usage[i] = True\n",
    "                break\n",
    "    if verbose:\n",
    "        print('bins:', bins)\n",
    "        print('residuals:', residuals)\n",
    "        print('usage:', usage)\n",
    "    return sum(usage)"
   ]
  },
  {
   "cell_type": "code",
   "execution_count": 2,
   "metadata": {
    "ExecuteTime": {
     "end_time": "2018-02-15T09:34:18.423851Z",
     "start_time": "2018-02-15T09:34:18.412915Z"
    }
   },
   "outputs": [],
   "source": [
    "groups = [4,1,2,5,3,2,3,6,3]\n",
    "capacity = 6"
   ]
  },
  {
   "cell_type": "code",
   "execution_count": 3,
   "metadata": {
    "ExecuteTime": {
     "end_time": "2018-02-15T09:34:18.465801Z",
     "start_time": "2018-02-15T09:34:18.427423Z"
    }
   },
   "outputs": [
    {
     "name": "stdout",
     "output_type": "stream",
     "text": [
      "bins: [[[1, 1, 1, 1], [2]], [[3, 3], [5, 5, 5]], [[4, 4, 4, 4, 4]], [[6, 6], [7, 7, 7]], [[8, 8, 8, 8, 8, 8]], [[9, 9, 9]], [], [], []]\n",
      "residuals: [1, 1, 1, 1, 0, 3, 6, 6, 6]\n",
      "usage: [True, True, True, True, True, True, False, False, False]\n"
     ]
    },
    {
     "data": {
      "text/plain": [
       "6"
      ]
     },
     "execution_count": 3,
     "metadata": {},
     "output_type": "execute_result"
    }
   ],
   "source": [
    "first_fit(groups, capacity)"
   ]
  },
  {
   "cell_type": "code",
   "execution_count": 4,
   "metadata": {
    "ExecuteTime": {
     "end_time": "2018-02-15T09:34:18.485533Z",
     "start_time": "2018-02-15T09:34:18.471430Z"
    }
   },
   "outputs": [
    {
     "name": "stdout",
     "output_type": "stream",
     "text": [
      "bins: [[[1, 1, 1, 1, 1, 1]], [[2, 2, 2, 2, 2], [9]], [[3, 3, 3, 3], [7, 7]], [[4, 4, 4], [5, 5, 5]], [[6, 6, 6], [8, 8]], [], [], [], []]\n",
      "residuals: [0, 0, 0, 0, 1, 6, 6, 6, 6]\n",
      "usage: [True, True, True, True, True, False, False, False, False]\n"
     ]
    },
    {
     "data": {
      "text/plain": [
       "5"
      ]
     },
     "execution_count": 4,
     "metadata": {},
     "output_type": "execute_result"
    }
   ],
   "source": [
    "first_fit(groups, capacity, decreasing=True)"
   ]
  },
  {
   "cell_type": "markdown",
   "metadata": {},
   "source": [
    "## Set Covering Problem"
   ]
  },
  {
   "cell_type": "code",
   "execution_count": null,
   "metadata": {},
   "outputs": [],
   "source": [
    "    "
   ]
  }
 ],
 "metadata": {
  "hide_input": false,
  "kernelspec": {
   "display_name": "Python 3",
   "language": "python",
   "name": "python3"
  },
  "language_info": {
   "codemirror_mode": {
    "name": "ipython",
    "version": 3
   },
   "file_extension": ".py",
   "mimetype": "text/x-python",
   "name": "python",
   "nbconvert_exporter": "python",
   "pygments_lexer": "ipython3",
   "version": "3.6.4"
  }
 },
 "nbformat": 4,
 "nbformat_minor": 2
}
