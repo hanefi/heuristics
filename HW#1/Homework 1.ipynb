{
 "cells": [
  {
   "cell_type": "markdown",
   "metadata": {},
   "source": [
    "# Homework #1 \n",
    "##### (Due March 22)\n",
    "\n",
    "## Solving the TSP using Construction Heuristics and 2-Opt Improvement Heuristic\n",
    "\n",
    "In this homework, you are going to solve the TSP for three data sets. They are called eil51.dat, eil76.dat, and eil101.dat, and consist of 51, 76, and 101 customer locations, respectively. Each data set includes the x-coordinates and y-coordinates of customers. The distances between customer locations are measured via Euclidean distance rounded to two digits after the decimal point. You can also compute the optimal tour length by considering the sequence given in the xxxopt.dat files.\n",
    "\n",
    "1. Solve each instance using the one-sided nearest neighbor heuristic starting at cities 10, 20, and 30. This means that you will obtain nine tours. Provide the tour length of each one using the table below.\n",
    "2. Solve each instance using the two-sided nearest neighbor heuristic starting at cities 10, 20, and 30. This means that you will obtain nine tours. Provide the tour length of each one using the table below.\n",
    "3. Solve each instance using the nearest insertion heuristic starting at cities 10, 20, and 30. This means that you will obtain nine tours. Provide the tour length of each one using the table below.\n",
    "4. Solve each instance using the farthest insertion heuristic starting at cities 10, 20, and 30. This means that you will obtain nine tours. Provide the tour length of each one using the table below.\n",
    "5. For each tour obtained so far, apply the 2-opt improvement heuristic, and give the tour length using the table below.\n",
    "\n",
    "I would like to remind you the following points which you should consider when you submit your homework. It will consist of two parts: your code and report. First, your code must be clear and you should define the following using comment lines in the code: variables names and their purpose, function names and their purpose. For example, you should write \"X is the location variable\", \"CompObj calculates the objective value\", etc. Or, you can use a function name that is self explanatory e.g., ApplyMove.\n",
    "\n",
    "In the report part, you have to mention which solution representation and neighborhood structure you used as well as other pertinent and tiny details worth pointing out. You can use the following table for the output of your solutions."
   ]
  }
 ],
 "metadata": {
  "hide_input": false,
  "kernelspec": {
   "display_name": "Python 3",
   "language": "python",
   "name": "python3"
  },
  "language_info": {
   "codemirror_mode": {
    "name": "ipython",
    "version": 3
   },
   "file_extension": ".py",
   "mimetype": "text/x-python",
   "name": "python",
   "nbconvert_exporter": "python",
   "pygments_lexer": "ipython3",
   "version": "3.6.4"
  }
 },
 "nbformat": 4,
 "nbformat_minor": 2
}
