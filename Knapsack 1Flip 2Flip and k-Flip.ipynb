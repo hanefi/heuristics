{
 "cells": [
  {
   "cell_type": "code",
   "execution_count": 14,
   "metadata": {
    "ExecuteTime": {
     "end_time": "2018-02-22T08:50:04.630282Z",
     "start_time": "2018-02-22T08:50:04.626887Z"
    }
   },
   "outputs": [],
   "source": [
    "import numpy as np\n",
    "from itertools import permutations"
   ]
  },
  {
   "cell_type": "code",
   "execution_count": 15,
   "metadata": {
    "ExecuteTime": {
     "end_time": "2018-02-22T08:50:07.410292Z",
     "start_time": "2018-02-22T08:50:07.404346Z"
    }
   },
   "outputs": [
    {
     "name": "stdout",
     "output_type": "stream",
     "text": [
      "{(1, 0, 1, 0), (1, 1, 0, 0), (1, 0, 0, 1), (0, 1, 1, 0), (0, 1, 0, 1), (0, 0, 1, 1)}\n"
     ]
    }
   ],
   "source": [
    "a = [1,1,0,0]\n",
    "perms = set(permutations(a))\n",
    "print (perms)"
   ]
  },
  {
   "cell_type": "code",
   "execution_count": 70,
   "metadata": {
    "ExecuteTime": {
     "end_time": "2018-02-22T09:02:46.692803Z",
     "start_time": "2018-02-22T09:02:46.686477Z"
    }
   },
   "outputs": [],
   "source": [
    "def get_flips(current=[], flip=1):\n",
    "    p = np.zeros(len(current))\n",
    "    p[:flip] = 1\n",
    "    perms = sorted(set(permutations(p)), reverse=True)\n",
    "    return np.logical_xor(perms, current)"
   ]
  },
  {
   "cell_type": "code",
   "execution_count": 71,
   "metadata": {
    "ExecuteTime": {
     "end_time": "2018-02-22T09:02:46.977308Z",
     "start_time": "2018-02-22T09:02:46.968130Z"
    }
   },
   "outputs": [
    {
     "data": {
      "text/plain": [
       "array([[ True, False, False, False, False],\n",
       "       [False,  True, False, False, False],\n",
       "       [False, False,  True, False, False],\n",
       "       [False, False, False,  True, False],\n",
       "       [False, False, False, False,  True]], dtype=bool)"
      ]
     },
     "execution_count": 71,
     "metadata": {},
     "output_type": "execute_result"
    }
   ],
   "source": [
    "get_flips([0,0,0,0,0])"
   ]
  },
  {
   "cell_type": "code",
   "execution_count": 72,
   "metadata": {
    "ExecuteTime": {
     "end_time": "2018-02-22T09:03:07.937464Z",
     "start_time": "2018-02-22T09:03:07.930895Z"
    }
   },
   "outputs": [
    {
     "data": {
      "text/plain": [
       "array([[ True,  True, False, False, False],\n",
       "       [ True, False,  True, False, False],\n",
       "       [ True, False, False,  True, False],\n",
       "       [ True, False, False, False,  True],\n",
       "       [False,  True,  True, False, False],\n",
       "       [False,  True, False,  True, False],\n",
       "       [False,  True, False, False,  True],\n",
       "       [False, False,  True,  True, False],\n",
       "       [False, False,  True, False,  True],\n",
       "       [False, False, False,  True,  True]], dtype=bool)"
      ]
     },
     "execution_count": 72,
     "metadata": {},
     "output_type": "execute_result"
    }
   ],
   "source": [
    "get_flips([0,0,0,0,0], flip=2)"
   ]
  },
  {
   "cell_type": "code",
   "execution_count": 73,
   "metadata": {
    "ExecuteTime": {
     "end_time": "2018-02-22T09:03:10.808419Z",
     "start_time": "2018-02-22T09:03:10.801536Z"
    }
   },
   "outputs": [
    {
     "data": {
      "text/plain": [
       "array([[ True,  True, False,  True,  True],\n",
       "       [ True, False,  True,  True,  True],\n",
       "       [ True, False, False, False,  True],\n",
       "       [ True, False, False,  True, False],\n",
       "       [False,  True,  True,  True,  True],\n",
       "       [False,  True, False, False,  True],\n",
       "       [False,  True, False,  True, False],\n",
       "       [False, False,  True, False,  True],\n",
       "       [False, False,  True,  True, False],\n",
       "       [False, False, False, False, False]], dtype=bool)"
      ]
     },
     "execution_count": 73,
     "metadata": {},
     "output_type": "execute_result"
    }
   ],
   "source": [
    "get_flips([0,0,0,1,1], flip=2)"
   ]
  },
  {
   "cell_type": "code",
   "execution_count": 107,
   "metadata": {
    "ExecuteTime": {
     "end_time": "2018-02-22T09:52:33.225667Z",
     "start_time": "2018-02-22T09:52:33.215919Z"
    }
   },
   "outputs": [],
   "source": [
    "def evaluate_solution(candidate, w=w, u=u):\n",
    "    total_w = np.sum(candidate @ w)\n",
    "    total_u = np.sum(candidate @ u)\n",
    "    return total_w, total_u"
   ]
  },
  {
   "cell_type": "code",
   "execution_count": 111,
   "metadata": {
    "ExecuteTime": {
     "end_time": "2018-02-22T09:54:09.119121Z",
     "start_time": "2018-02-22T09:54:09.091662Z"
    }
   },
   "outputs": [],
   "source": [
    "def knapsack_kflips(weights=w, utilities=u, capacity=c, flips=2):\n",
    "    visited = {}\n",
    "    current = [0] * len(weights)\n",
    "    candidates = get_flips(current, flip=2)\n",
    "    best_u = 0\n",
    "    best_cand = list(current)\n",
    "\n",
    "    for cand in candidates:\n",
    "        if hash(tuple(cand)) in visited.keys():\n",
    "            continue\n",
    "        w, u = evaluate_solution(cand, w=weights, u=utilities)\n",
    "        visited[hash(tuple(cand))] = (w,u)\n",
    "        if w>capacity:\n",
    "            continue\n",
    "        if best_u<u:\n",
    "            best_u = u\n",
    "            best_cand = cand\n",
    "\n",
    "    return best_cand, visited[hash(tuple(best_cand))]"
   ]
  },
  {
   "cell_type": "code",
   "execution_count": 114,
   "metadata": {
    "ExecuteTime": {
     "end_time": "2018-02-22T09:55:12.773546Z",
     "start_time": "2018-02-22T09:55:12.761540Z"
    }
   },
   "outputs": [
    {
     "name": "stdout",
     "output_type": "stream",
     "text": [
      "sack: [ True False False False  True]\n",
      "weight: 5\n",
      "utility: 12\n"
     ]
    }
   ],
   "source": [
    "w = [3,5,1,3,2]\n",
    "u = [6,7,4,5,6]\n",
    "c = 6\n",
    "sack, (weight, utility) = knapsack_kflips(weights=w, utilities=u, capacity=c, flips=2)\n",
    "print('sack:', sack)\n",
    "print('weight:', weight)\n",
    "print('utility:', utility)"
   ]
  },
  {
   "cell_type": "code",
   "execution_count": null,
   "metadata": {},
   "outputs": [],
   "source": []
  }
 ],
 "metadata": {
  "hide_input": false,
  "kernelspec": {
   "display_name": "Python 3",
   "language": "python",
   "name": "python3"
  },
  "language_info": {
   "codemirror_mode": {
    "name": "ipython",
    "version": 3
   },
   "file_extension": ".py",
   "mimetype": "text/x-python",
   "name": "python",
   "nbconvert_exporter": "python",
   "pygments_lexer": "ipython3",
   "version": "3.6.4"
  }
 },
 "nbformat": 4,
 "nbformat_minor": 2
}
